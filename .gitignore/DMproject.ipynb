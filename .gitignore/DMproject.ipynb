{
 "cells": [
  {
   "cell_type": "code",
   "execution_count": 1,
   "metadata": {
    "collapsed": false,
    "scrolled": true
   },
   "outputs": [],
   "source": [
    "import pandas as pd\n",
    "import matplotlib.pyplot as plt\n",
    "\n",
    "# This is used for fast string concatination\n",
    "from io import StringIO\n",
    "\n",
    "# Use nltk for valid words\n",
    "import nltk\n",
    "# Need to make hash 'dictionaries' from nltk for fast processing\n",
    "import collections as co\n",
    "\n",
    "\n",
    "import warnings # current version of seaborn generates a bunch of warnings that we'll ignore\n",
    "warnings.filterwarnings(\"ignore\")\n",
    "import seaborn as sns\n",
    "import matplotlib.pyplot as plt\n",
    "sns.set(style=\"white\", color_codes=True)\n",
    "\n",
    "# change the directory path for the database according to the location of the csv file. \n",
    "data = pd.read_csv(\"/Users/dalyakhatun/Desktop/GSU/Data Mining/consumer_complaints.csv\")\n"
   ]
  },
  {
   "cell_type": "code",
   "execution_count": 2,
   "metadata": {
    "collapsed": false
   },
   "outputs": [
    {
     "data": {
      "text/plain": [
       "(746402, 18)"
      ]
     },
     "execution_count": 2,
     "metadata": {},
     "output_type": "execute_result"
    }
   ],
   "source": [
    "# Find the number of rows and columns \n",
    "data.shape"
   ]
  },
  {
   "cell_type": "code",
   "execution_count": 3,
   "metadata": {
    "collapsed": false,
    "scrolled": false
   },
   "outputs": [
    {
     "data": {
      "text/html": [
       "<div>\n",
       "<table border=\"1\" class=\"dataframe\">\n",
       "  <thead>\n",
       "    <tr style=\"text-align: right;\">\n",
       "      <th></th>\n",
       "      <th>Date received</th>\n",
       "      <th>Product</th>\n",
       "      <th>Sub-product</th>\n",
       "      <th>Issue</th>\n",
       "      <th>Sub-issue</th>\n",
       "      <th>Consumer complaint narrative</th>\n",
       "      <th>Company public response</th>\n",
       "      <th>Company</th>\n",
       "      <th>State</th>\n",
       "      <th>ZIP code</th>\n",
       "      <th>Tags</th>\n",
       "      <th>Consumer consent provided?</th>\n",
       "      <th>Submitted via</th>\n",
       "      <th>Date sent to company</th>\n",
       "      <th>Company response to consumer</th>\n",
       "      <th>Timely response?</th>\n",
       "      <th>Consumer disputed?</th>\n",
       "      <th>Complaint ID</th>\n",
       "    </tr>\n",
       "  </thead>\n",
       "  <tbody>\n",
       "    <tr>\n",
       "      <th>0</th>\n",
       "      <td>07/29/2013</td>\n",
       "      <td>Consumer Loan</td>\n",
       "      <td>Vehicle loan</td>\n",
       "      <td>Managing the loan or lease</td>\n",
       "      <td>NaN</td>\n",
       "      <td>NaN</td>\n",
       "      <td>NaN</td>\n",
       "      <td>Wells Fargo &amp; Company</td>\n",
       "      <td>VA</td>\n",
       "      <td>24540</td>\n",
       "      <td>NaN</td>\n",
       "      <td>NaN</td>\n",
       "      <td>Phone</td>\n",
       "      <td>07/30/2013</td>\n",
       "      <td>Closed with explanation</td>\n",
       "      <td>Yes</td>\n",
       "      <td>No</td>\n",
       "      <td>468882</td>\n",
       "    </tr>\n",
       "    <tr>\n",
       "      <th>1</th>\n",
       "      <td>07/29/2013</td>\n",
       "      <td>Bank account or service</td>\n",
       "      <td>Checking account</td>\n",
       "      <td>Using a debit or ATM card</td>\n",
       "      <td>NaN</td>\n",
       "      <td>NaN</td>\n",
       "      <td>NaN</td>\n",
       "      <td>Wells Fargo &amp; Company</td>\n",
       "      <td>CA</td>\n",
       "      <td>95992</td>\n",
       "      <td>Older American</td>\n",
       "      <td>NaN</td>\n",
       "      <td>Web</td>\n",
       "      <td>07/31/2013</td>\n",
       "      <td>Closed with explanation</td>\n",
       "      <td>Yes</td>\n",
       "      <td>No</td>\n",
       "      <td>468889</td>\n",
       "    </tr>\n",
       "    <tr>\n",
       "      <th>2</th>\n",
       "      <td>07/29/2013</td>\n",
       "      <td>Bank account or service</td>\n",
       "      <td>Checking account</td>\n",
       "      <td>Account opening, closing, or management</td>\n",
       "      <td>NaN</td>\n",
       "      <td>NaN</td>\n",
       "      <td>NaN</td>\n",
       "      <td>Santander Bank US</td>\n",
       "      <td>NY</td>\n",
       "      <td>10065</td>\n",
       "      <td>NaN</td>\n",
       "      <td>NaN</td>\n",
       "      <td>Fax</td>\n",
       "      <td>07/31/2013</td>\n",
       "      <td>Closed</td>\n",
       "      <td>Yes</td>\n",
       "      <td>No</td>\n",
       "      <td>468879</td>\n",
       "    </tr>\n",
       "    <tr>\n",
       "      <th>3</th>\n",
       "      <td>07/29/2013</td>\n",
       "      <td>Bank account or service</td>\n",
       "      <td>Checking account</td>\n",
       "      <td>Deposits and withdrawals</td>\n",
       "      <td>NaN</td>\n",
       "      <td>NaN</td>\n",
       "      <td>NaN</td>\n",
       "      <td>Wells Fargo &amp; Company</td>\n",
       "      <td>GA</td>\n",
       "      <td>30084</td>\n",
       "      <td>NaN</td>\n",
       "      <td>NaN</td>\n",
       "      <td>Web</td>\n",
       "      <td>07/30/2013</td>\n",
       "      <td>Closed with explanation</td>\n",
       "      <td>Yes</td>\n",
       "      <td>No</td>\n",
       "      <td>468949</td>\n",
       "    </tr>\n",
       "    <tr>\n",
       "      <th>4</th>\n",
       "      <td>07/29/2013</td>\n",
       "      <td>Mortgage</td>\n",
       "      <td>Conventional fixed mortgage</td>\n",
       "      <td>Loan servicing, payments, escrow account</td>\n",
       "      <td>NaN</td>\n",
       "      <td>NaN</td>\n",
       "      <td>NaN</td>\n",
       "      <td>Franklin Credit Management</td>\n",
       "      <td>CT</td>\n",
       "      <td>06106</td>\n",
       "      <td>NaN</td>\n",
       "      <td>NaN</td>\n",
       "      <td>Web</td>\n",
       "      <td>07/30/2013</td>\n",
       "      <td>Closed with explanation</td>\n",
       "      <td>Yes</td>\n",
       "      <td>No</td>\n",
       "      <td>475823</td>\n",
       "    </tr>\n",
       "  </tbody>\n",
       "</table>\n",
       "</div>"
      ],
      "text/plain": [
       "  Date received                  Product                  Sub-product  \\\n",
       "0    07/29/2013            Consumer Loan                 Vehicle loan   \n",
       "1    07/29/2013  Bank account or service             Checking account   \n",
       "2    07/29/2013  Bank account or service             Checking account   \n",
       "3    07/29/2013  Bank account or service             Checking account   \n",
       "4    07/29/2013                 Mortgage  Conventional fixed mortgage   \n",
       "\n",
       "                                      Issue Sub-issue  \\\n",
       "0                Managing the loan or lease       NaN   \n",
       "1                 Using a debit or ATM card       NaN   \n",
       "2   Account opening, closing, or management       NaN   \n",
       "3                  Deposits and withdrawals       NaN   \n",
       "4  Loan servicing, payments, escrow account       NaN   \n",
       "\n",
       "  Consumer complaint narrative Company public response  \\\n",
       "0                          NaN                     NaN   \n",
       "1                          NaN                     NaN   \n",
       "2                          NaN                     NaN   \n",
       "3                          NaN                     NaN   \n",
       "4                          NaN                     NaN   \n",
       "\n",
       "                      Company State ZIP code            Tags  \\\n",
       "0       Wells Fargo & Company    VA    24540             NaN   \n",
       "1       Wells Fargo & Company    CA    95992  Older American   \n",
       "2           Santander Bank US    NY    10065             NaN   \n",
       "3       Wells Fargo & Company    GA    30084             NaN   \n",
       "4  Franklin Credit Management    CT    06106             NaN   \n",
       "\n",
       "  Consumer consent provided? Submitted via Date sent to company  \\\n",
       "0                        NaN         Phone           07/30/2013   \n",
       "1                        NaN           Web           07/31/2013   \n",
       "2                        NaN           Fax           07/31/2013   \n",
       "3                        NaN           Web           07/30/2013   \n",
       "4                        NaN           Web           07/30/2013   \n",
       "\n",
       "  Company response to consumer Timely response? Consumer disputed?  \\\n",
       "0      Closed with explanation              Yes                 No   \n",
       "1      Closed with explanation              Yes                 No   \n",
       "2                       Closed              Yes                 No   \n",
       "3      Closed with explanation              Yes                 No   \n",
       "4      Closed with explanation              Yes                 No   \n",
       "\n",
       "   Complaint ID  \n",
       "0        468882  \n",
       "1        468889  \n",
       "2        468879  \n",
       "3        468949  \n",
       "4        475823  "
      ]
     },
     "execution_count": 3,
     "metadata": {},
     "output_type": "execute_result"
    }
   ],
   "source": [
    "# display the dataset.\n",
    "data.head(5)"
   ]
  },
  {
   "cell_type": "code",
   "execution_count": 4,
   "metadata": {
    "collapsed": false
   },
   "outputs": [
    {
     "data": {
      "text/plain": [
       "Date received                   object\n",
       "Product                         object\n",
       "Sub-product                     object\n",
       "Issue                           object\n",
       "Sub-issue                       object\n",
       "Consumer complaint narrative    object\n",
       "Company public response         object\n",
       "Company                         object\n",
       "State                           object\n",
       "ZIP code                        object\n",
       "Tags                            object\n",
       "Consumer consent provided?      object\n",
       "Submitted via                   object\n",
       "Date sent to company            object\n",
       "Company response to consumer    object\n",
       "Timely response?                object\n",
       "Consumer disputed?              object\n",
       "Complaint ID                     int64\n",
       "dtype: object"
      ]
     },
     "execution_count": 4,
     "metadata": {},
     "output_type": "execute_result"
    }
   ],
   "source": [
    "# Find the types of data for each column \n",
    "data.dtypes"
   ]
  },
  {
   "cell_type": "code",
   "execution_count": 5,
   "metadata": {
    "collapsed": false
   },
   "outputs": [
    {
     "data": {
      "text/plain": [
       "Index(['Date received', 'Product', 'Sub-product', 'Issue', 'Sub-issue',\n",
       "       'Consumer complaint narrative', 'Company public response', 'Company',\n",
       "       'State', 'ZIP code', 'Tags', 'Consumer consent provided?',\n",
       "       'Submitted via', 'Date sent to company', 'Company response to consumer',\n",
       "       'Timely response?', 'Consumer disputed?', 'Complaint ID'],\n",
       "      dtype='object')"
      ]
     },
     "execution_count": 5,
     "metadata": {},
     "output_type": "execute_result"
    }
   ],
   "source": [
    "# Display the header of each column in the dataset. \n",
    "data.columns"
   ]
  },
  {
   "cell_type": "code",
   "execution_count": 6,
   "metadata": {
    "collapsed": false
   },
   "outputs": [
    {
     "data": {
      "text/plain": [
       "array(['Consumer Loan', 'Bank account or service', 'Mortgage',\n",
       "       'Debt collection', 'Credit card', 'Credit reporting',\n",
       "       'Student loan', 'Money transfers', 'Payday loan', 'Prepaid card',\n",
       "       'Other financial service', 'Virtual currency'], dtype=object)"
      ]
     },
     "execution_count": 6,
     "metadata": {},
     "output_type": "execute_result"
    }
   ],
   "source": [
    "# different products in the dataset\n",
    "data.Product.unique()"
   ]
  },
  {
   "cell_type": "code",
   "execution_count": 7,
   "metadata": {
    "collapsed": false
   },
   "outputs": [
    {
     "name": "stdout",
     "output_type": "stream",
     "text": [
      "Product\n",
      "Bank account or service     84071\n",
      "Consumer Loan               30446\n",
      "Credit card                 86938\n",
      "Credit reporting           134970\n",
      "Debt collection            140678\n",
      "Money transfers              5187\n",
      "Mortgage                   223642\n",
      "Other financial service       984\n",
      "Payday loan                  5366\n",
      "Prepaid card                 3672\n",
      "Student loan                30431\n",
      "Virtual currency               17\n",
      "dtype: int64\n"
     ]
    }
   ],
   "source": [
    "# How many complaints raised against each product?\n",
    "productAgainstComplaints = data.groupby('Product').size()\n",
    "print(productAgainstComplaints)"
   ]
  },
  {
   "cell_type": "code",
   "execution_count": 8,
   "metadata": {
    "collapsed": false
   },
   "outputs": [
    {
     "data": {
      "image/png": "[encoded data removed]",
      "text/plain": [
       "<matplotlib.figure.Figure at 0x11f3e8ef0>"
      ]
     },
     "metadata": {},
     "output_type": "display_data"
    }
   ],
   "source": [
    "\n",
    "# This graphs shows the number of complaint against each product. \n",
    "productAgainstComplaints.plot(kind='bar')\n",
    "plt.show()"
   ]
  },
  {
   "cell_type": "code",
   "execution_count": 9,
   "metadata": {
    "collapsed": false
   },
   "outputs": [
    {
     "data": {
      "text/plain": [
       "array(['Wells Fargo & Company', 'Santander Bank US',\n",
       "       'Franklin Credit Management', ..., 'Benn Realty Services, Inc.',\n",
       "       'Sibbett Auto Sales LLC', 'LN Capital Corporation'], dtype=object)"
      ]
     },
     "execution_count": 9,
     "metadata": {},
     "output_type": "execute_result"
    }
   ],
   "source": [
    "# different companies in the dataset\n",
    "data.Company.unique()"
   ]
  },
  {
   "cell_type": "code",
   "execution_count": 10,
   "metadata": {
    "collapsed": false
   },
   "outputs": [
    {
     "name": "stdout",
     "output_type": "stream",
     "text": [
      "Company\n",
      "(Former)Shapiro, Swertfeger & Hasty, LLP         4\n",
      "1 Stop Money Centers, LLC                        1\n",
      "1st 2nd Mortgage Company Of NJ, Inc.             1\n",
      "1st Alliance Lending                            17\n",
      "1st Capital Finance of South Carolina, Inc.      1\n",
      "1st Capital Mortgage, LLC                        1\n",
      "1st Fidelity Loan Servicing                      5\n",
      "1st Franklin Financial Corporation              54\n",
      "1st Maryland Mortgage Corporation                1\n",
      "1st Midwest Mortgage Corp                        2\n",
      "1st Money Center, Inc.                           2\n",
      "1st Portfolio Holding Corporation                1\n",
      "1st Preference Mortgage                          2\n",
      "1st Priority Mortgage, Inc.                      1\n",
      "21st Mortgage Corporation                      311\n",
      "2233 Paradise Road LLC                           8\n",
      "2288984 Ontario Inc.                            30\n",
      "24 Asset Management Corp                         5\n",
      "245 Holdings LLC                                 1\n",
      "360 Mortgage                                    47\n",
      "3rd Generation, Inc.                            19\n",
      "4 Star Resolution LLC (Closed)                  29\n",
      "4M Collections, LLC                             10\n",
      "99th Floor LLC                                   1\n",
      "A & E Futures LLC                                7\n",
      "A & O Recovery Solutions, LLC                    5\n",
      "A & S Collection Associates, Inc.                5\n",
      "A+ Financial Services, Inc.                      2\n",
      "A-1 Fast Cash of Tucker, Inc                     1\n",
      "A.C.S. Companies, Inc. I                         2\n",
      "                                              ... \n",
      "Xtreme Products LLC                              8\n",
      "YKS Acceptance, Inc.                            26\n",
      "Yakima County Credit Service, INC                2\n",
      "Yale Mortgage Corporation                       18\n",
      "Young America Holdings, LLC                      2\n",
      "ZENCO COLLECTION, LLC                           58\n",
      "ZINC Financial, Inc.,                            2\n",
      "ZOA, LLC                                         6\n",
      "Zakheim Law Group, P.A.                         26\n",
      "Zarvad III S.A.                                 55\n",
      "Zarzaur and Schwartz, PC                         9\n",
      "Zealandia Holding Company, Inc.                  5\n",
      "Zeidman’s Jewelry & Loan of Michigan             1\n",
      "Zeller & Associates, LLC                         9\n",
      "Zenith Financial & Insurance Solutions Inc.      1\n",
      "Zenith Financial Mortgage Company, Inc.          1\n",
      "Zenith Financial Network Inc                    46\n",
      "ZestFinance                                      7\n",
      "Zeus Mortgage, Ltd.                              2\n",
      "Zingo Cash Illinois LLC                          3\n",
      "Zions Bancorporation                           292\n",
      "Zip Capital Group, LLC                           1\n",
      "Zwicker & Associates                           179\n",
      "eCon Credit LP                                   2\n",
      "eMoneyUSA Holdings, LLC                          2\n",
      "i3 Lending, Inc                                  3\n",
      "iFreedom Direct Corporation                     15\n",
      "iQuantified Management Services, LLC             5\n",
      "iServe Trust                                     7\n",
      "reekside Recovery And Capital Management        24\n",
      "dtype: int64\n"
     ]
    }
   ],
   "source": [
    "# How many complaints raised against each Company?\n",
    "CompanyAgainstComplaints = data.groupby('Company').size()\n",
    "print(CompanyAgainstComplaints)\n"
   ]
  },
  {
   "cell_type": "code",
   "execution_count": 11,
   "metadata": {
    "collapsed": false
   },
   "outputs": [
    {
     "data": {
      "image/png": "[encoded data removed]",
      "text/plain": [
       "<matplotlib.figure.Figure at 0x11223f588>"
      ]
     },
     "metadata": {},
     "output_type": "display_data"
    }
   ],
   "source": [
    "\n",
    "# This graphs show the number of complaint against each Company. \n",
    "CompanyAgainstComplaints.plot()\n",
    "plt.show()"
   ]
  },
  {
   "cell_type": "code",
   "execution_count": 12,
   "metadata": {
    "collapsed": false
   },
   "outputs": [
    {
     "name": "stdout",
     "output_type": "stream",
     "text": [
      "Timely response?\n",
      "No      20926\n",
      "Yes    725476\n",
      "dtype: int64\n"
     ]
    },
    {
     "data": {
      "image/png": "[encoded data removed]",
      "text/plain": [
       "<matplotlib.figure.Figure at 0x1124048d0>"
      ]
     },
     "metadata": {},
     "output_type": "display_data"
    }
   ],
   "source": [
    "# How many complaints have received timely response? \n",
    "# Almost 97.5% of the complaints have been addressed timely. \n",
    "\n",
    "ReceivedTimelyResponse = data.groupby('Timely response?').size()\n",
    "print(ReceivedTimelyResponse)\n",
    "ReceivedTimelyResponse.plot(kind='bar')\n",
    "plt.show()"
   ]
  },
  {
   "cell_type": "code",
   "execution_count": 13,
   "metadata": {
    "collapsed": false
   },
   "outputs": [
    {
     "name": "stdout",
     "output_type": "stream",
     "text": [
      "Consumer disputed?\n",
      "No     553302\n",
      "Yes    145659\n",
      "dtype: int64\n"
     ]
    },
    {
     "data": {
      "image/png": "[encoded data removed]",
      "text/plain": [
       "<matplotlib.figure.Figure at 0x1139d1198>"
      ]
     },
     "metadata": {},
     "output_type": "display_data"
    }
   ],
   "source": [
    "# How many consumer disputed? \n",
    "# Over 20% of the users disputed.\n",
    "disputed = data.groupby('Consumer disputed?').size()\n",
    "print(disputed)\n",
    "disputed.plot(kind='bar')\n",
    "plt.show()"
   ]
  },
  {
   "cell_type": "code",
   "execution_count": 14,
   "metadata": {
    "collapsed": false
   },
   "outputs": [
    {
     "name": "stdout",
     "output_type": "stream",
     "text": [
      "Company response to consumer\n",
      "Closed                              17170\n",
      "Closed with explanation            555668\n",
      "Closed with monetary relief         49769\n",
      "Closed with non-monetary relief     92404\n",
      "Closed with relief                   5298\n",
      "Closed without relief               17863\n",
      "In progress                          4182\n",
      "Untimely response                    4048\n",
      "dtype: int64\n"
     ]
    },
    {
     "data": {
      "image/png": "[encoded data removed]",
      "text/plain": [
       "<matplotlib.figure.Figure at 0x113a69240>"
      ]
     },
     "metadata": {},
     "output_type": "display_data"
    }
   ],
   "source": [
    "# What are the different responses users get from the companies? \n",
    "DifferentResponses = data.groupby('Company response to consumer').size()\n",
    "print(DifferentResponses)\n",
    "DifferentResponses.plot(kind='bar')\n",
    "plt.show()"
   ]
  },
  {
   "cell_type": "code",
   "execution_count": 15,
   "metadata": {
    "collapsed": true
   },
   "outputs": [],
   "source": [
    "# Analyzing text in consumer complaints descriptions"
   ]
  },
  {
   "cell_type": "code",
   "execution_count": 16,
   "metadata": {
    "collapsed": false
   },
   "outputs": [],
   "source": [
    "# We are only interested in data with consumer complaints. \n",
    "# Only using the data where 'Consumer complaint narrative' is not null \n",
    "\n",
    "data=data[data['Consumer complaint narrative'].notnull()]\n",
    "\n",
    "st=StringIO()\n",
    "data['Consumer complaint narrative'].apply(lambda x: st.write(x))\n",
    "\n",
    "k=st.getvalue()\n",
    "st.close()\n",
    "k=k.lower()\n",
    "k=k.split()"
   ]
  },
  {
   "cell_type": "code",
   "execution_count": 17,
   "metadata": {
    "collapsed": true
   },
   "outputs": [],
   "source": [
    "# Next only want valid strings\n",
    "words = co.Counter(nltk.corpus.words.words())\n",
    "stopWords =co.Counter( nltk.corpus.stopwords.words() )\n",
    "k=[i for i in k if i in words and i not in stopWords]\n",
    "st=\" \".join(k)\n",
    "c = co.Counter(k)"
   ]
  },
  {
   "cell_type": "code",
   "execution_count": 18,
   "metadata": {
    "collapsed": false
   },
   "outputs": [
    {
     "data": {
      "text/plain": [
       "[('credit', 178714),\n",
       " ('account', 133512),\n",
       " ('would', 104821),\n",
       " ('loan', 89573),\n",
       " ('payment', 82255),\n",
       " ('bank', 79684),\n",
       " ('told', 79669),\n",
       " ('received', 66514),\n",
       " ('debt', 60481),\n",
       " ('information', 57717),\n",
       " ('never', 56824),\n",
       " ('mortgage', 56814),\n",
       " ('pay', 52764),\n",
       " ('get', 52073),\n",
       " ('company', 51348),\n",
       " ('card', 50917),\n",
       " ('report', 50731),\n",
       " ('sent', 49832),\n",
       " ('time', 49195),\n",
       " ('said', 45661),\n",
       " ('call', 45457),\n",
       " ('could', 45353),\n",
       " ('letter', 44021),\n",
       " ('back', 42456),\n",
       " ('made', 39802),\n",
       " ('due', 38320),\n",
       " ('phone', 37934),\n",
       " ('since', 37570),\n",
       " ('amount', 37012),\n",
       " ('money', 35419)]"
      ]
     },
     "execution_count": 18,
     "metadata": {},
     "output_type": "execute_result"
    }
   ],
   "source": [
    "# 30 most common words\n",
    "c.most_common(30)"
   ]
  },
  {
   "cell_type": "code",
   "execution_count": 19,
   "metadata": {
    "collapsed": false
   },
   "outputs": [
    {
     "data": {
      "text/plain": [
       "'one owe loan address box know longer use never even told credit report thats still address one vehic'"
      ]
     },
     "execution_count": 19,
     "metadata": {},
     "output_type": "execute_result"
    }
   ],
   "source": [
    "st[0:100]"
   ]
  },
  {
   "cell_type": "code",
   "execution_count": 20,
   "metadata": {
    "collapsed": false
   },
   "outputs": [
    {
     "name": "stdout",
     "output_type": "stream",
     "text": [
      "['one', 'owe', 'loan', 'address', 'box', 'know', 'longer', 'use', 'never', 'even'] \n",
      "\n",
      "Length of k 8133025\n"
     ]
    }
   ],
   "source": [
    "print(k[0:10],\"\\n\\nLength of k %s\" % len(k))\n"
   ]
  },
  {
   "cell_type": "code",
   "execution_count": 21,
   "metadata": {
    "collapsed": false
   },
   "outputs": [
    {
     "name": "stdout",
     "output_type": "stream",
     "text": [
      "I have been victim of identity theft XXXX times now in about XXXX years time. I have filed complaints with Consumer Fraud and with the Credit Bureaus. Latest issue is so many hard inquiries on my file by auto finance companies I did NOT give written or oral permission to. Wrote them all and asked for copy of credit authorization form they have that gave them permission. None have been able to send any because I never gave them permission. Only XXXX dealerships were authorized, XXXX XXXX in writing, and XXXX XXXX XXXX orally over the phone. Yet there are XXXX inquiries total on my file with XXXX credit bureau alone. I know one has a XXXX day window to shop around for auto financing, and it only shows as XXXX Hard Inquiry. This has always been the case all my life, yet this time with XXXX XXXX, almost all their companies they dealt with show as Hard Inquiries on my credit. My file is supposed to flagged due to the identity thefts, and yet they are allowing all these other entities to check my credit WITHOUT a credit authorization formed signed my me. I have wrote Equifax and the others asking they remove those unauthorized inquiries and got back a form letter with a response that I can not understand at all ... .. '' inquiries are a matter of record of all companies that have accessed your credit file ... ... ''. The inquiries are still there and not removed and it has affected my credit score drastically. I am so tired of these automated responses that get absolutely nothing done whatsoever to protect the consumer ... ME! They have allowed all sorts of entries on my credit that I never authorized, and then I get calls from collection agencies for loans I never made, and the vicious circle and cycle continues. At my age of XXXX I should NOT have to worry about this kind of criminal activity on my credit but I am worn out and tormented with this constant struggle to clear this garbage off my credit files, over and over and over and over again, with the Bureaus, from MY point of view are NOT co-operating. After all, its MY CREDIT INFORMATION, and yet they treat me like I am the culprit by trying to get it cleaned up and corrected. This Bureau system sucks in my opinion and needs to be done away with. I will be long dead if that ever happens, so meanwhile I am tormented with having to deal with thefts, illegal inquiries, incorrect entries and Identity issues ... ..growing old SUCKS!!!! \n",
      "XXXX XXXX \n",
      "\n",
      "___\n",
      "\n",
      "I am putting a complaint on Chexsystems cause I am having ongoing issues with them and they are not trying to correct the issue. In XXXX I had requested a copy of my chex systems file. I received a letter from them dated XXXX XXXX XXXX that my file was mixed with another file with similar information. The reason for this is because I have been a victim of identity theft. They requested for a copy of my social security number to correct the issue. I sent them in a copy of the letter and social security card front and back along with a police report that I had filed. They sent me a copy of my chex systems file at that point. After reviewing the file there are multiple inquiries on my Chexsystems file that were a result of the identity theft. The original police report i sent in dated XXXX/XXXX/XXXX I sent to chexsystems and now I am attaching to my complaint the new police report that I have filed dated XXXX/XXXX/XXXX. The list of inquiries on the report are extensive the only inquiry that should be reporting on my report is XXXX XXXX XXXX on XXXX/XXXX/XXXX I have not requested or authorized anyone to access my chexsystems since then. The rest of the inquiries are the result of the identity theft. \n",
      "\n",
      "___\n",
      "\n",
      "I found that Wells Fargo reported to a credit reporting agency that I owed them a debt of {$420.00} on XXXX 2012 on a credit card account. I never opened a credit card account with Wells Fargo and have no knowledge of any credit card charges made on a Wells Fargo credit card in my name. I wrote to Wells Fargo and informed them of these facts. I also told Wells Fargo that I believed that these charges were fraudulent and suspected that I had been a victim of identity theft. I requested that Wells Fargo conduct an investigation into the matter and that Wells Fargo provide to me all account documents and billing statements related to this claimed debt so that I could determine whether I had been a victim of identity theft as I suspected. Wells Fargo responded but refused my request for documentation and its response does not indicate that it conducted any investigation into my claim that I had been the victim of credit card fraud and identity theft. \n",
      "\n",
      "___\n",
      "\n",
      "My identity was stolen back in XXXX 2008 when my purse was stolen from my person. I have the police report with the statement of theft. Today, I received a phone call at my place of work regarding a collection of debt. The company is Performant Financial Corporation and the caller was XXXX XXXX. I explained to XXXX that I am a victim of identity theft and her calling me at work was illegal under section 806 ( 5 ) of the Collection Practices Act. \n",
      "\n",
      "___\n",
      "\n",
      "Virtuoso Agency located in XXXX Colorado. The customer service agent was very rude. I had sent them a police report and other items verifying that it I was a victim of identity theft. The original creditor direct energy cleared the balance realizing it was identity theft. I asked the debt collector to send paperwork to XXXX to clear my name. Virtuoso is reporting that it is in open collections to the credit agencies. The agent was rude and said I am not your friend and I do n't care and I do n't have to help you. All I asked was them to send a letter to XXXX that the account was recalled by XXXX because of fraud. They are reporting to the credit agencies even with the fact that they know its fraudulent debt and wont do anything to clear it. \n",
      "\n",
      "___\n",
      "\n",
      "\n"
     ]
    }
   ],
   "source": [
    "# Let's get some text involving identity theft\n",
    "searchS='victim of identity theft'\n",
    "vi = data[data['Consumer complaint narrative'].str.find(searchS) >= 0]\n",
    "data['victim']=None\n",
    "data['e']=1\n",
    "data['m']=None  # This will be for 'Closed with monetary relief'\n",
    "data['victim'] = data[data['Consumer complaint narrative'].str.find(searchS) >= 0]\n",
    "data['m']=data[data['Company response to consumer'] == 'Closed with monetary relief']\n",
    "\n",
    "\n",
    "# Take a look at some sample stories  mindex to mindex_inc\n",
    "# Adjust this, to see different stories\n",
    "mindex=20\n",
    "mindex_inc=5+mindex\n",
    "si=StringIO()\n",
    "vi['Consumer complaint narrative'].iloc[mindex:mindex_inc].apply(lambda x: si.write(x+'\\n___\\n\\n'))\n",
    "\n",
    "t=si.getvalue()\n",
    "si.close()\n",
    "print(t)"
   ]
  },
  {
   "cell_type": "code",
   "execution_count": 22,
   "metadata": {
    "collapsed": false,
    "scrolled": true
   },
   "outputs": [
    {
     "ename": "NameError",
     "evalue": "name 's' is not defined",
     "output_type": "error",
     "traceback": [
      "\u001b[0;31m---------------------------------------------------------------------------\u001b[0m",
      "\u001b[0;31mNameError\u001b[0m                                 Traceback (most recent call last)",
      "\u001b[0;32m<ipython-input-22-b0fb3cb3ced6>\u001b[0m in \u001b[0;36m<module>\u001b[0;34m()\u001b[0m\n\u001b[1;32m      2\u001b[0m \u001b[0;34m\u001b[0m\u001b[0m\n\u001b[1;32m      3\u001b[0m \u001b[0;31m# Read the whole text.\u001b[0m\u001b[0;34m\u001b[0m\u001b[0;34m\u001b[0m\u001b[0m\n\u001b[0;32m----> 4\u001b[0;31m \u001b[0mtext\u001b[0m \u001b[0;34m=\u001b[0m \u001b[0ms\u001b[0m\u001b[0;34m\u001b[0m\u001b[0m\n\u001b[0m\u001b[1;32m      5\u001b[0m \u001b[0;34m\u001b[0m\u001b[0m\n\u001b[1;32m      6\u001b[0m \u001b[0;31m# Generate a word cloud image\u001b[0m\u001b[0;34m\u001b[0m\u001b[0;34m\u001b[0m\u001b[0m\n",
      "\u001b[0;31mNameError\u001b[0m: name 's' is not defined"
     ]
    }
   ],
   "source": [
    "from wordcloud import WordCloud\n",
    "\n",
    "# Read the whole text.\n",
    "text = s\n",
    "\n",
    "# Generate a word cloud image\n",
    "wordcloud = WordCloud().generate(text)\n",
    "\n",
    "# Display the generated image:\n",
    "import matplotlib.pyplot as plt\n",
    "\n",
    "\n",
    "# take relative word frequencies into account, lower max_font_size\n",
    "wordcloud = WordCloud(background_color=\"gray\",max_words=len(k),max_font_size=50, relative_scaling=.8).generate(text)\n",
    "plt.figure()\n",
    "plt.imshow(wordcloud)\n",
    "plt.axis(\"off\")\n",
    "plt.show()                                                  "
   ]
  }
 ],
 "metadata": {
  "kernelspec": {
   "display_name": "Python 3",
   "language": "python",
   "name": "python3"
  },
  "language_info": {
   "codemirror_mode": {
    "name": "ipython",
    "version": 3
   },
   "file_extension": ".py",
   "mimetype": "text/x-python",
   "name": "python",
   "nbconvert_exporter": "python",
   "pygments_lexer": "ipython3",
   "version": "3.6.0"
  }
 },
 "nbformat": 4,
 "nbformat_minor": 2
}
